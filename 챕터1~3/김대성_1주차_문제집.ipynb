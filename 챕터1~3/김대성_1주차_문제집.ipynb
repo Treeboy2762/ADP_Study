{
 "cells": [
  {
   "cell_type": "markdown",
   "id": "94d84121",
   "metadata": {},
   "source": [
    "# Q1\n",
    "\n",
    "참새대학교 3학년 참새학과 김삐약은 요즘들어 자신의 학과교수들이 학점을 유난히 짜게 주는 것 같다는 생각을 한다. 김삐약은 주변통계학을 사용해 다음과 같은 데이터를 얻는다. (만점은 4.3이라고 가정한다)\n",
    "\n",
    "참새학과: [2.062, 3.287, 2.408, 2.953, 2.251, 2.082, 2.088, 2.521, 2.313,\n",
    "       3.209, 3.097, 3.276, 3.284, 3.541, 3.092, 2.078, 3.234, 3.434,\n",
    "       2.362, 3.742, 2.028, 2.605, 2.607, 2.807, 3.857, 3.13 , 2.392,\n",
    "       3.739, 2.839]\n",
    "       \n",
    "비둘기학과: [3.894, 3.218, 3.048, 2.068, 2.861, 2.823, 2.959, 2.686, 2.978,\n",
    "       2.761, 2.343, 3.442, 3.441, 3.855, 3.025, 2.798, 2.727, 2.227,\n",
    "       3.491, 2.449, 2.407, 2.897, 3.743, 3.118, 2.488, 2.644, 3.313,\n",
    "       2.92 , 2.616, 2.885, 3.373, 3.988, 2.378]\n",
    "       \n",
    "독수리학과: [3.841, 3.815, 3.499, 2.183, 2.203, 3.491, 3.791, 2.63 , 3.416,\n",
    "       4.234, 3.281, 2.589, 2.523, 2.827]"
   ]
  },
  {
   "cell_type": "code",
   "execution_count": 63,
   "id": "31ac77e3",
   "metadata": {},
   "outputs": [],
   "source": [
    "import numpy as np\n",
    "\n",
    "np.random.seed(3)\n",
    "\n",
    "bidulgie = np.random.normal(3.0, 0.5, 33).round(3)\n",
    "bidulgie = bidulgie[(bidulgie < 4.3) & (bidulgie > 2)]\n",
    "\n",
    "chamsae = np.random.normal(2.5, 0.7, 42).round(3)\n",
    "chamsae = chamsae[(chamsae < 4.3) & (chamsae > 2)]\n",
    "\n",
    "doksurie = np.random.normal(3.3, 0.8, 16).round(3)\n",
    "doksurie = doksurie[(doksurie < 4.3) & (doksurie > 2)]"
   ]
  },
  {
   "cell_type": "markdown",
   "id": "8f5f6cca",
   "metadata": {},
   "source": [
    "## 1\n",
    "### a. 데이터 시각화\n",
    "\n",
    "세개의 리스트를 히스토그램으로 그리고, 각각 평균을 수직선으로 표시하세요. 비둘기는 gray, 참새는 brown, 독수리는 black 색깔을 사용하며, 수직선과 히스토그램의 색은 같아야 합니다. 범례, xlabel, ylabel 은 적절히 표시하세요.\n",
    "\n",
    "그 뒤, 세 분포를 비교하세요."
   ]
  },
  {
   "cell_type": "code",
   "execution_count": null,
   "id": "f51aae76",
   "metadata": {},
   "outputs": [],
   "source": []
  },
  {
   "cell_type": "markdown",
   "id": "d7b11bd6",
   "metadata": {},
   "source": [
    "### b. 가설검정\n",
    "\n",
    "세 학과의 평균은 정말 다른가요? 적절한 가설을 제시한 뒤, 필요한 조건을 검사하고, 유의수준 0.05에서 검정을 실시하세요. 결과를 해석하세요."
   ]
  },
  {
   "cell_type": "code",
   "execution_count": null,
   "id": "5449f898",
   "metadata": {},
   "outputs": [],
   "source": []
  },
  {
   "cell_type": "markdown",
   "id": "07d443cc",
   "metadata": {},
   "source": [
    "### c. 결과해석\n",
    "\n",
    "b. 에서 내린 결론에선 어떤 오류를 범했을 수 있나요? 해당 오류의 확률을 낮출 수 있는 방법 두가지를 제시해 주세요."
   ]
  },
  {
   "cell_type": "markdown",
   "id": "bb564bba",
   "metadata": {},
   "source": []
  },
  {
   "cell_type": "markdown",
   "id": "c2db1b66",
   "metadata": {},
   "source": [
    "### d. 사후검정\n",
    "\n",
    "c. 에서 제시된 두가지 방법 중 한가지를 채택했더니, 유의미한 결과가 나왔습니다. 아래의 새 데이터를 토대로 등분산 검정을 실시한 뒤 Scheffe 사후검정을 진행하세요. 왜 Scheffe 검정을 사용하나요?"
   ]
  },
  {
   "cell_type": "code",
   "execution_count": 72,
   "id": "c84d0282",
   "metadata": {},
   "outputs": [],
   "source": [
    "import numpy as np\n",
    "\n",
    "np.random.seed(5)\n",
    "\n",
    "bidulgie = np.random.normal(3.0, 0.5, 201).round(3)\n",
    "bidulgie = bidulgie[(bidulgie < 4.3) & (bidulgie > 2)]\n",
    "\n",
    "chamsae = np.random.normal(2.5, 0.7, 302).round(3)\n",
    "chamsae = chamsae[(chamsae < 4.3) & (chamsae > 2)]\n",
    "\n",
    "doksurie = np.random.normal(3.3, 0.8, 150).round(3)\n",
    "doksurie = doksurie[(doksurie < 4.3) & (doksurie > 2)]"
   ]
  },
  {
   "cell_type": "markdown",
   "id": "91144298",
   "metadata": {},
   "source": [
    "## 2\n",
    "\n",
    "또 다른 참새학과 학생 루푸는 1의 통계검정에서 영감을 받아 비슷한 검정을 해보려 한다.\n",
    "\n",
    "이번엔 단순히 평균을 비교하는 대신, (3.7-4.3] 은 A, (3.3-3.7] 은 AB, (2.7-3.3] 은 B, (2.3-2.7] 은 BC, [0-2.3] 은 C 로 구분해서 비교를 해보려고 한다.\n",
    "\n",
    "### a. 데이터 전처리\n",
    "\n",
    "위에 주어진 세개의 리스트를 문제에 적힌 대로 범주형 변수로 변환하세요."
   ]
  },
  {
   "cell_type": "code",
   "execution_count": null,
   "id": "f92c1112",
   "metadata": {},
   "outputs": [],
   "source": []
  },
  {
   "cell_type": "markdown",
   "id": "15d0aa26",
   "metadata": {},
   "source": [
    "### b. 가설검정\n",
    "\n",
    "세 학과의 학점 분포는 다른가요? 적절한 가설을 제시한 뒤, 필요한 조건을 검사하고, 유의수준 0.05 하에서 적절한 검정을 수행하세요. 결과를 해석하세요."
   ]
  },
  {
   "cell_type": "code",
   "execution_count": null,
   "id": "edd62dc7",
   "metadata": {},
   "outputs": [],
   "source": []
  },
  {
   "cell_type": "markdown",
   "id": "4d3982ad",
   "metadata": {},
   "source": [
    "## 3\n",
    "\n",
    "독수리학과 참수리는 옆동네 냥냥대학교에 비하면 참새대학교가 전체적으로 학점이 짜니, 우리끼리 싸우지 않을 것을 주장한다.\n",
    "\n",
    "그리하여, 100명의 참새대학교 학생과 100명의 냥냥대학교 학생을 조사한 결과는 다음과 같다:\n",
    "\n",
    "참새대: 평균 3.1 표준편차 0.6\n",
    "\n",
    "냥냥대: 평균 3.3 표준편차 0.7\n",
    "\n",
    "위 집계통계량을 토대로 가설검정을 진행하세요."
   ]
  },
  {
   "cell_type": "markdown",
   "id": "704cb6d6",
   "metadata": {},
   "source": [
    "<details>\n",
    "    <summary>힌트는 <font color=\"red\"><b>여기를 클릭</b></font></summary>\n",
    "  \n",
    "  Hint: scipy.stats.ttest_ind_from_stats를 사용해 봅시다.\n",
    "</details>"
   ]
  },
  {
   "cell_type": "code",
   "execution_count": null,
   "id": "9979d82f",
   "metadata": {},
   "outputs": [],
   "source": []
  }
 ],
 "metadata": {
  "kernelspec": {
   "display_name": "Python 3 (ipykernel)",
   "language": "python",
   "name": "python3"
  },
  "language_info": {
   "codemirror_mode": {
    "name": "ipython",
    "version": 3
   },
   "file_extension": ".py",
   "mimetype": "text/x-python",
   "name": "python",
   "nbconvert_exporter": "python",
   "pygments_lexer": "ipython3",
   "version": "3.9.10"
  }
 },
 "nbformat": 4,
 "nbformat_minor": 5
}
