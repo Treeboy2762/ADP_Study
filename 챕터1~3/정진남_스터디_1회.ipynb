{
 "cells": [
  {
   "cell_type": "markdown",
   "id": "b6610de1",
   "metadata": {},
   "source": [
    "### 문제1\n",
    "- 제품 1, 2, 3의 판매량을 조사하니, 각 324대, 78대, 261대였다.(총 663대)<br>\n",
    "  제품의 판매량 비율이 A : 56%, B : 12%, C :32%이라고 했을 때,<br>\n",
    "  해당 비율을 따르는 지 검증하시오?"
   ]
  },
  {
   "cell_type": "code",
   "execution_count": 2,
   "id": "88276a87",
   "metadata": {},
   "outputs": [
    {
     "data": {
      "text/html": [
       "<div>\n",
       "<style scoped>\n",
       "    .dataframe tbody tr th:only-of-type {\n",
       "        vertical-align: middle;\n",
       "    }\n",
       "\n",
       "    .dataframe tbody tr th {\n",
       "        vertical-align: top;\n",
       "    }\n",
       "\n",
       "    .dataframe thead th {\n",
       "        text-align: right;\n",
       "    }\n",
       "</style>\n",
       "<table border=\"1\" class=\"dataframe\">\n",
       "  <thead>\n",
       "    <tr style=\"text-align: right;\">\n",
       "      <th></th>\n",
       "      <th>아이템1</th>\n",
       "      <th>아이템2</th>\n",
       "      <th>아이템3</th>\n",
       "    </tr>\n",
       "  </thead>\n",
       "  <tbody>\n",
       "    <tr>\n",
       "      <th>관찰</th>\n",
       "      <td>324</td>\n",
       "      <td>78</td>\n",
       "      <td>261</td>\n",
       "    </tr>\n",
       "    <tr>\n",
       "      <th>기대</th>\n",
       "      <td>371</td>\n",
       "      <td>80</td>\n",
       "      <td>212</td>\n",
       "    </tr>\n",
       "  </tbody>\n",
       "</table>\n",
       "</div>"
      ],
      "text/plain": [
       "    아이템1  아이템2  아이템3\n",
       "관찰   324    78   261\n",
       "기대   371    80   212"
      ]
     },
     "execution_count": 2,
     "metadata": {},
     "output_type": "execute_result"
    }
   ],
   "source": [
    "import pandas as pd\n",
    "xo, xe = [324, 78, 261], [371, 80, 212] # 관찰빈도, 기대빈도\n",
    "xc = pd.DataFrame([xo, xe], columns = ['아이템1','아이템2','아이템3'], index = ['관찰','기대'])\n",
    "\n",
    "xc"
   ]
  },
  {
   "cell_type": "code",
   "execution_count": null,
   "id": "14a1c20a",
   "metadata": {},
   "outputs": [],
   "source": [
    "# barplot으로 간단히 시각화(관찰도수, 기대도수)"
   ]
  },
  {
   "cell_type": "code",
   "execution_count": null,
   "id": "ccd167d3",
   "metadata": {},
   "outputs": [],
   "source": [
    "#카이제곱 검정 수행 및 결론도출"
   ]
  },
  {
   "cell_type": "markdown",
   "id": "4a75ba32",
   "metadata": {},
   "source": [
    "### 문제2\n",
    "- 제품 1, 2, 3의 남성, 여성별(성별에 따른) 판매량 차이에 대해 카이제곱 검정을 수행하시오"
   ]
  },
  {
   "cell_type": "code",
   "execution_count": 8,
   "id": "14377479",
   "metadata": {},
   "outputs": [
    {
     "data": {
      "text/html": [
       "<div>\n",
       "<style scoped>\n",
       "    .dataframe tbody tr th:only-of-type {\n",
       "        vertical-align: middle;\n",
       "    }\n",
       "\n",
       "    .dataframe tbody tr th {\n",
       "        vertical-align: top;\n",
       "    }\n",
       "\n",
       "    .dataframe thead th {\n",
       "        text-align: right;\n",
       "    }\n",
       "</style>\n",
       "<table border=\"1\" class=\"dataframe\">\n",
       "  <thead>\n",
       "    <tr style=\"text-align: right;\">\n",
       "      <th></th>\n",
       "      <th>아이템1</th>\n",
       "      <th>아이템2</th>\n",
       "      <th>아이템3</th>\n",
       "    </tr>\n",
       "  </thead>\n",
       "  <tbody>\n",
       "    <tr>\n",
       "      <th>여성</th>\n",
       "      <td>269</td>\n",
       "      <td>83</td>\n",
       "      <td>215</td>\n",
       "    </tr>\n",
       "    <tr>\n",
       "      <th>남성</th>\n",
       "      <td>155</td>\n",
       "      <td>57</td>\n",
       "      <td>181</td>\n",
       "    </tr>\n",
       "  </tbody>\n",
       "</table>\n",
       "</div>"
      ],
      "text/plain": [
       "    아이템1  아이템2  아이템3\n",
       "여성   269    83   215\n",
       "남성   155    57   181"
      ]
     },
     "execution_count": 8,
     "metadata": {},
     "output_type": "execute_result"
    }
   ],
   "source": [
    "xf, xm = [269,83,215],[155,57,181]\n",
    "x = pd.DataFrame([xf,xm], columns = ['아이템1','아이템2','아이템3'],index = ['여성','남성'])\n",
    "x"
   ]
  },
  {
   "cell_type": "code",
   "execution_count": null,
   "id": "9cdd4943",
   "metadata": {},
   "outputs": [],
   "source": [
    "# 교차검증 수행 및 결론 도출"
   ]
  }
 ],
 "metadata": {
  "kernelspec": {
   "display_name": "Python 3",
   "language": "python",
   "name": "python3"
  },
  "language_info": {
   "codemirror_mode": {
    "name": "ipython",
    "version": 3
   },
   "file_extension": ".py",
   "mimetype": "text/x-python",
   "name": "python",
   "nbconvert_exporter": "python",
   "pygments_lexer": "ipython3",
   "version": "3.8.8"
  }
 },
 "nbformat": 4,
 "nbformat_minor": 5
}
